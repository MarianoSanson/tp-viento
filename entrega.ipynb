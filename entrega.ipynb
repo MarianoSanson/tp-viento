{
 "cells": [
  {
   "cell_type": "markdown",
   "metadata": {},
   "source": [
    "# Trabajo Práctico 1\n",
    "## Business Analytics / Aplicaciones Computacionales en Negocios\n",
    "### Amigo, Caracoix, Marsili y Sanson"
   ]
  },
  {
   "cell_type": "markdown",
   "metadata": {},
   "source": [
    "#### Setup del entorno, carga de los datos y armado de funciones básicas"
   ]
  },
  {
   "cell_type": "code",
   "execution_count": 1,
   "metadata": {},
   "outputs": [],
   "source": [
    "import numpy as np\n",
    "import pandas as pd\n",
    "from sklearn.linear_model import LinearRegression\n",
    "import matplotlib as plt\n",
    "import random\n",
    "import math\n",
    "\n",
    "from typing import List, Tuple"
   ]
  },
  {
   "cell_type": "code",
   "execution_count": 3,
   "metadata": {},
   "outputs": [],
   "source": [
    "# Cargamos el dataset de viento\n",
    "datos = pd.read_excel('wind_data.xlsx')"
   ]
  },
  {
   "cell_type": "markdown",
   "metadata": {},
   "source": [
    "La funcion $\\theta$ esta definida como:\n",
    "\n",
    "$$\n",
    "\\theta(i) = 6 + 2cos(2πi/365)\n",
    "$$"
   ]
  },
  {
   "cell_type": "code",
   "execution_count": 4,
   "metadata": {},
   "outputs": [],
   "source": [
    "def theta_function(i):\n",
    "    return 6 + 2 * np.cos(2 * np.pi * i / 365)"
   ]
  },
  {
   "cell_type": "markdown",
   "metadata": {},
   "source": [
    "El error en la regresión lineal, conocido como RMSE (raiz del error cuadratico medio o root mean squared error), está definido como:\n",
    "\n",
    "$$\n",
    "RMSE = \\sqrt{\\frac{1}{n} \\sum_{i=1}^{n} (y_i - \\hat{y}_i)^2}\n",
    "$$"
   ]
  },
  {
   "cell_type": "code",
   "execution_count": 8,
   "metadata": {},
   "outputs": [],
   "source": [
    "def calcular_RMSE(Y, predicciones):\n",
    "\n",
    "    n = len(Y)\n",
    "\n",
    "    residuos = Y - predicciones\n",
    "    varianza = np.sum(residuos**2) / n\n",
    "\n",
    "    return np.sqrt(varianza)"
   ]
  },
  {
   "cell_type": "markdown",
   "metadata": {},
   "source": [
    "##### Por último, establecemos parámetros básicos que nos van a acompañar durante todo el trabajo"
   ]
  },
  {
   "cell_type": "code",
   "execution_count": 5,
   "metadata": {},
   "outputs": [],
   "source": [
    "N = 10000 # Cantidad de simulaciones/iteraciones que se haran en cada ejercicio\n",
    "\n",
    "T = 365 # Período en el cual se realizará el análisis"
   ]
  },
  {
   "cell_type": "markdown",
   "metadata": {},
   "source": [
    "# Ejercicio 1"
   ]
  },
  {
   "cell_type": "markdown",
   "metadata": {},
   "source": [
    "### Regresion Lineal para el modelo del viento regional"
   ]
  },
  {
   "cell_type": "markdown",
   "metadata": {},
   "source": [
    "Vamos a estimar los parámetros $\\kappa$ y $\\sigma$ para el regresion_vientoo de velocidad del viento regional utilizando un regresion_vientoo de regresion lineal.\n",
    "\n",
    "La ecuación original es:\n",
    "\n",
    "$$\n",
    "S_{i+1} = S_i + \\kappa (\\theta(t_i) - S_i) \\Delta + \\sigma \\sqrt{\\Delta} Z_i\n",
    "$$\n",
    "\n",
    "Despejamos $S_i$ para obtener una forma adecuada para la regresión lineal:\n",
    "\n",
    "$$\n",
    "S_{i+1} - S_i = \\kappa \\Delta (\\theta(t_i) - S_i) + \\sigma \\sqrt{\\Delta} Z_i\n",
    "$$\n",
    "\n",
    "Reescribimos la ecuación en términos de $\\beta$:\n",
    "\n",
    "$$\n",
    "Y = \\beta_1 X  + \\epsilon_i\n",
    "$$\n",
    "\n",
    "donde:\n",
    "- $Y = S_{i+1} - S_i$\n",
    "- $\\beta_1 = \\kappa \\Delta$\n",
    "- $\\epsilon_i = \\sigma \\sqrt{\\Delta} Z_i$\n",
    "\n",
    "Luego, generamos las columnas correspndientes en nuestro dataset: "
   ]
  },
  {
   "cell_type": "code",
   "execution_count": 6,
   "metadata": {},
   "outputs": [],
   "source": [
    "datos['Y'] = datos['regional wind'].diff()  # Calcula la diferencia entre días consecutivos\n",
    "\n",
    "# Preparar X, que es theta_i - S_i \n",
    "datos['X'] = theta_function(datos[\"dia\"]) - datos['regional wind'].shift(1)\n",
    "\n",
    "# Eliminar los valores nulos generados por diff() y shift()\n",
    "datos = datos.dropna(subset=['Y', 'X'])"
   ]
  },
  {
   "cell_type": "code",
   "execution_count": 11,
   "metadata": {},
   "outputs": [
    {
     "name": "stdout",
     "output_type": "stream",
     "text": [
      "kappa estimado: 108.73826243919804\n",
      "sigma estimado: 16.046573595261595\n"
     ]
    }
   ],
   "source": [
    "Y = datos['Y'] # Variable a predecir\n",
    "X = datos[['X']] # Variable predictora\n",
    "\n",
    "regresion_viento = LinearRegression()\n",
    "regresion_viento.fit(X, Y)\n",
    "\n",
    "B0 = regresion_viento.intercept_\n",
    "B1 = regresion_viento.coef_[0]\n",
    "\n",
    "delta = 1/365\n",
    "\n",
    "#Estimamos kappa\n",
    "kappa_estimado = B1 / delta\n",
    "\n",
    "#Estimamos sigma\n",
    "predicciones = regresion_viento.predict(X)\n",
    "\n",
    "error = calcular_RMSE(Y,predicciones)\n",
    "\n",
    "sigma_estimado = error / np.sqrt(delta)\n",
    "\n",
    "print(f\"kappa estimado: {kappa_estimado}\")\n",
    "print(f\"sigma estimado: {sigma_estimado}\")"
   ]
  },
  {
   "cell_type": "markdown",
   "metadata": {},
   "source": [
    "### Regresion Lineal para el modelo de diferencia de la velocidad del viento entre el norte y el sur"
   ]
  },
  {
   "cell_type": "markdown",
   "metadata": {},
   "source": [
    "Vamos a estimar los parámetros $\\beta$ y $\\gamma$ para el regresion_vientoo de diferencia de la velocidad del viento entre el norte y el sur utilizando un modelo de regresion lineal.\n",
    "\n",
    "La ecuación original es:\n",
    "\n",
    "$$\n",
    "D_{i+1} = D_i - \\beta D_i \\Delta + \\gamma \\sqrt{\\Delta} W_i\n",
    "$$\n",
    "\n",
    "Despejamos $D_i$ para obtener una forma adecuada para la regresión lineal:\n",
    "\n",
    "$$\n",
    "D_{i+1} - D_i = - \\beta \\Delta D_i  + \\gamma \\sqrt{\\Delta} W_i\n",
    "$$\n",
    "\n",
    "Reescribimos la ecuación en términos de $\\beta$:\n",
    "\n",
    "$$\n",
    "H = \\beta_1 G  + \\epsilon_i\n",
    "$$\n",
    "\n",
    "donde:\n",
    "- $H = D_{i+1} - D_i$\n",
    "- $\\beta_1 = -\\beta \\Delta$\n",
    "- $\\epsilon_i = \\gamma \\sqrt{\\Delta} W_i$\n",
    "\n",
    "Repetimos el mismo proceso que realizamos antes:"
   ]
  },
  {
   "cell_type": "code",
   "execution_count": 12,
   "metadata": {},
   "outputs": [],
   "source": [
    "# Preparar H\n",
    "datos['H'] = datos['wind gap norte sur'].diff()\n",
    "\n",
    "# Eliminar los valores nulos generados por diff()\n",
    "datos = datos.dropna(subset = ('H'))"
   ]
  },
  {
   "cell_type": "code",
   "execution_count": 14,
   "metadata": {},
   "outputs": [
    {
     "name": "stdout",
     "output_type": "stream",
     "text": [
      "beta estimado: 48.37880318325385\n",
      "gamma estimado: 10.091915756839064\n"
     ]
    }
   ],
   "source": [
    "G = datos[['wind gap norte sur']]\n",
    "H = datos['H']\n",
    "\n",
    "regresion_gap = LinearRegression()\n",
    "regresion_gap.fit(G,H)\n",
    "\n",
    "B0_2 = regresion_gap.intercept_\n",
    "B1_2 = regresion_gap.coef_[0]\n",
    "\n",
    "#Estimamos beta\n",
    "beta_estimado = -B1_2 / delta\n",
    "\n",
    "#Estimamos gamma\n",
    "\n",
    "predicciones_gap = regresion_gap.predict(G)\n",
    "\n",
    "error_gap = calcular_RMSE(H,predicciones_gap)\n",
    "\n",
    "gamma_estimado = error_gap / np.sqrt(delta)\n",
    "\n",
    "print(f\"beta estimado: {beta_estimado}\")\n",
    "print(f\"gamma estimado: {gamma_estimado}\")"
   ]
  }
 ],
 "metadata": {
  "kernelspec": {
   "display_name": "TD6",
   "language": "python",
   "name": "python3"
  },
  "language_info": {
   "codemirror_mode": {
    "name": "ipython",
    "version": 3
   },
   "file_extension": ".py",
   "mimetype": "text/x-python",
   "name": "python",
   "nbconvert_exporter": "python",
   "pygments_lexer": "ipython3",
   "version": "3.11.9"
  }
 },
 "nbformat": 4,
 "nbformat_minor": 2
}
