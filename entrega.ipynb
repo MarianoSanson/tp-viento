{
 "cells": [
  {
   "cell_type": "markdown",
   "metadata": {},
   "source": [
    "# Trabajo Práctico 1\n",
    "## Business Analytics / Aplicaciones Computacionales en Negocios\n",
    "### Amigo, Caracoix, Marsili y Sanson"
   ]
  },
  {
   "cell_type": "markdown",
   "metadata": {},
   "source": [
    "#### Setup del entorno, carga de los datos y armado de funciones básicas"
   ]
  },
  {
   "cell_type": "code",
   "execution_count": null,
   "metadata": {},
   "outputs": [],
   "source": [
    "import numpy as np\n",
    "import pandas as pd\n",
    "from sklearn.linear_model import LinearRegression\n",
    "import matplotlib as plt\n",
    "import random\n",
    "import math\n",
    "\n",
    "from typing import List"
   ]
  },
  {
   "cell_type": "code",
   "execution_count": null,
   "metadata": {},
   "outputs": [],
   "source": [
    "# Cargamos el dataset de viento\n",
    "datos = pd.read_excel('wind_data.xlsx')"
   ]
  },
  {
   "cell_type": "markdown",
   "metadata": {},
   "source": [
    "La funcion $\\theta$ esta definida como:\n",
    "\n",
    "$$\n",
    "\\theta(i) = 6 + 2cos(2πi/365)\n",
    "$$"
   ]
  },
  {
   "cell_type": "code",
   "execution_count": null,
   "metadata": {},
   "outputs": [],
   "source": [
    "def theta_function(i):\n",
    "    return 6 + 2 * np.cos(2 * np.pi * i / 365)\n"
   ]
  },
  {
   "cell_type": "markdown",
   "metadata": {},
   "source": [
    "El error en la regresión lineal, conocido como RMSE (raiz del error cuadratico medio o root mean squared error), está definido como:\n",
    "\n",
    "$$\n",
    "RMSE = \\sqrt{\\frac{1}{n} \\sum_{i=1}^{n} (y_i - \\hat{y}_i)^2}\n",
    "$$"
   ]
  },
  {
   "cell_type": "code",
   "execution_count": null,
   "metadata": {},
   "outputs": [],
   "source": [
    "def calcular_RMSE(Y, predicciones):\n",
    "\n",
    "    n = len(Y)\n",
    "\n",
    "    residuos = Y - predicciones\n",
    "    varianza = np.sum(residuos**2) / n\n",
    "\n",
    "    return np.sqrt(varianza)"
   ]
  },
  {
   "cell_type": "markdown",
   "metadata": {},
   "source": [
    "##### Por último, establecemos parámetros básicos que nos van a acompañar durante todo el trabajo"
   ]
  },
  {
   "cell_type": "code",
   "execution_count": null,
   "metadata": {},
   "outputs": [],
   "source": [
    "N = 10000 # Cantidad de simulaciones/iteraciones que se haran en cada ejercicio\n",
    "\n",
    "T = 365 # Período en el cual se realizará el análisis\n",
    "\n",
    "k_inicial = 6 # La media de la theta function\n",
    "\n",
    "C = 200000 # Costo de arreglo inicial"
   ]
  },
  {
   "cell_type": "markdown",
   "metadata": {},
   "source": [
    "# Ejercicio 1"
   ]
  },
  {
   "cell_type": "markdown",
   "metadata": {},
   "source": [
    "### Regresion Lineal para el modelo del viento regional"
   ]
  },
  {
   "cell_type": "markdown",
   "metadata": {},
   "source": [
    "Vamos a estimar los parámetros $\\kappa$ y $\\sigma$ para el regresion_vientoo de velocidad del viento regional utilizando un regresion_vientoo de regresion lineal.\n",
    "\n",
    "La ecuación original es:\n",
    "\n",
    "$$\n",
    "S_{i+1} = S_i + \\kappa (\\theta(t_i) - S_i) \\Delta + \\sigma \\sqrt{\\Delta} Z_i\n",
    "$$\n",
    "\n",
    "Despejamos $S_i$ para obtener una forma adecuada para la regresión lineal:\n",
    "\n",
    "$$\n",
    "S_{i+1} - S_i = \\kappa \\Delta (\\theta(t_i) - S_i) + \\sigma \\sqrt{\\Delta} Z_i\n",
    "$$\n",
    "\n",
    "Reescribimos la ecuación en términos de $\\beta$:\n",
    "\n",
    "$$\n",
    "Y = \\beta_1 X  + \\epsilon_i\n",
    "$$\n",
    "\n",
    "donde:\n",
    "- $Y = S_{i+1} - S_i$\n",
    "- $\\beta_1 = \\kappa \\Delta$\n",
    "- $\\epsilon_i = \\sigma \\sqrt{\\Delta} Z_i$\n",
    "\n",
    "Luego, generamos las columnas correspndientes en nuestro dataset: "
   ]
  },
  {
   "cell_type": "code",
   "execution_count": null,
   "metadata": {},
   "outputs": [],
   "source": [
    "datos['Y'] = datos['regional wind'].diff()  # Calcula la diferencia entre días consecutivos\n",
    "\n",
    "# Preparar X, que es theta_i - S_i \n",
    "datos['X'] = theta_function(datos[\"dia\"]) - datos['regional wind'].shift(1)\n",
    "\n",
    "# Eliminar los valores nulos generados por diff() y shift()\n",
    "datos = datos.dropna(subset=['Y', 'X'])"
   ]
  },
  {
   "cell_type": "code",
   "execution_count": null,
   "metadata": {},
   "outputs": [],
   "source": [
    "Y = datos['Y'] # Variable a predecir\n",
    "X = datos[['X']] # Variable predictora\n",
    "\n",
    "regresion_viento = LinearRegression()\n",
    "regresion_viento.fit(X, Y)\n",
    "\n",
    "B0 = regresion_viento.intercept_\n",
    "B1 = regresion_viento.coef_[0]\n",
    "\n",
    "delta = 1/T\n",
    "\n",
    "#Estimamos kappa\n",
    "kappa_estimado = B1 / delta\n",
    "\n",
    "#Estimamos sigma\n",
    "predicciones = regresion_viento.predict(X)\n",
    "\n",
    "error = calcular_RMSE(Y,predicciones)\n",
    "\n",
    "sigma_estimado = error / np.sqrt(delta)\n",
    "\n",
    "print(f\"kappa estimado: {kappa_estimado}\")\n",
    "print(f\"sigma estimado: {sigma_estimado}\")"
   ]
  },
  {
   "cell_type": "markdown",
   "metadata": {},
   "source": [
    "Utilizamos la desviación estándar de los residuos para calcular el error estándar de los parámetros estimados:\n",
    "\n",
    "Primero necesitábamos obtener necesitamos una estimación de la desviación estándar de \\( Y \\) que se calcula de la siguiente manera: \n",
    "$$\n",
    "\\sigma_Y \\approx \\sqrt{\\frac{1}{N} \\sum_{i=1}^{N} (Y(X_i))^2 - \\left( \\frac{1}{N} \\sum_{i=1}^{N} Y(X_i) \\right)^2}\n",
    "$$\n",
    "\n",
    "Pero esta fórmula se puede sustituir con el calculo utilizando la función auxiliar `calcular_RMSE`. \n",
    "\n",
    "\n",
    "Luego, calculamos efectivamente lso errores de estimación para cada uno de los parámetros:\n",
    "\n",
    "$$\n",
    "SE = 1.96 \\frac{\\sigma_h}{\\sqrt{N}}\n",
    "$$"
   ]
  },
  {
   "cell_type": "code",
   "execution_count": null,
   "metadata": {},
   "outputs": [],
   "source": [
    "# Desviación de estimación de kappa y sigma\n",
    "N_reg = len(Y)\n",
    "SE_kappa = 1.96 * error / np.sqrt(N)\n",
    "SE_sigma = 1.96 * error / np.sqrt(N)\n",
    "\n",
    "print(f\"Error estándar de kappa: {SE_kappa}\")\n",
    "print(f\"Error estándar de sigma: {SE_sigma}\")"
   ]
  },
  {
   "cell_type": "markdown",
   "metadata": {},
   "source": [
    "### Regresion Lineal para el modelo de diferencia de la velocidad del viento entre el norte y el sur"
   ]
  },
  {
   "cell_type": "markdown",
   "metadata": {},
   "source": [
    "Vamos a estimar los parámetros $\\beta$ y $\\gamma$ para el regresion_vientoo de diferencia de la velocidad del viento entre el norte y el sur utilizando un modelo de regresion lineal.\n",
    "\n",
    "La ecuación original es:\n",
    "\n",
    "$$\n",
    "D_{i+1} = D_i - \\beta D_i \\Delta + \\gamma \\sqrt{\\Delta} W_i\n",
    "$$\n",
    "\n",
    "Despejamos $D_i$ para obtener una forma adecuada para la regresión lineal:\n",
    "\n",
    "$$\n",
    "D_{i+1} - D_i = - \\beta \\Delta D_i  + \\gamma \\sqrt{\\Delta} W_i\n",
    "$$\n",
    "\n",
    "Reescribimos la ecuación en términos de $\\beta$:\n",
    "\n",
    "$$\n",
    "H = \\beta_1 G  + \\epsilon_i\n",
    "$$\n",
    "\n",
    "donde:\n",
    "- $H = D_{i+1} - D_i$\n",
    "- $\\beta_1 = -\\beta \\Delta$\n",
    "- $\\epsilon_i = \\gamma \\sqrt{\\Delta} W_i$\n",
    "\n",
    "Repetimos el mismo proceso que realizamos antes:"
   ]
  },
  {
   "cell_type": "code",
   "execution_count": null,
   "metadata": {},
   "outputs": [],
   "source": [
    "# Preparar H\n",
    "datos['H'] = datos['wind gap norte sur'].diff()\n",
    "\n",
    "# Eliminar los valores nulos generados por diff()\n",
    "datos = datos.dropna(subset = ('H'))"
   ]
  },
  {
   "cell_type": "code",
   "execution_count": null,
   "metadata": {},
   "outputs": [],
   "source": [
    "G = datos[['wind gap norte sur']]\n",
    "H = datos['H']\n",
    "\n",
    "regresion_gap = LinearRegression()\n",
    "regresion_gap.fit(G,H)\n",
    "\n",
    "B0_2 = regresion_gap.intercept_\n",
    "B1_2 = regresion_gap.coef_[0]\n",
    "\n",
    "#Estimamos beta\n",
    "beta_estimado = -B1_2 / delta\n",
    "\n",
    "#Estimamos gamma\n",
    "\n",
    "predicciones_gap = regresion_gap.predict(G)\n",
    "\n",
    "error_gap = calcular_RMSE(H,predicciones_gap)\n",
    "\n",
    "gamma_estimado = error_gap / np.sqrt(delta)\n",
    "\n",
    "print(f\"beta estimado: {beta_estimado}\")\n",
    "print(f\"gamma estimado: {gamma_estimado}\")"
   ]
  },
  {
   "cell_type": "markdown",
   "metadata": {},
   "source": [
    "Utilizamos la desviación estándar de los residuos para calcular el error estándar de los parámetros estimados de igual manera que los parámetros anteriores:"
   ]
  },
  {
   "cell_type": "code",
   "execution_count": null,
   "metadata": {},
   "outputs": [],
   "source": [
    "# Desviación de estimación de beta y gamma\n",
    "N_gap = len(H)\n",
    "SE_beta = 1.96 * error_gap / np.sqrt(N_gap)\n",
    "SE_gamma = 1.96 * error_gap / np.sqrt(N_gap)\n",
    "\n",
    "print(f\"Error estándar de beta: {SE_beta}\")\n",
    "print(f\"Error estándar de gamma: {SE_gamma}\")"
   ]
  },
  {
   "cell_type": "markdown",
   "metadata": {},
   "source": [
    "# Ejercicio 2"
   ]
  },
  {
   "cell_type": "markdown",
   "metadata": {},
   "source": [
    "##### Creamos funciones básicas para simular el viento y el gap, y una función para realizar N simulaciones"
   ]
  },
  {
   "cell_type": "code",
   "execution_count": null,
   "metadata": {},
   "outputs": [],
   "source": [
    "def generar_viento_regional(kappa, sigma, T):\n",
    "    camino_viento = np.zeros(T)\n",
    "    # Tomamos el primer valor de los datos históricos para utilizarlo como primer valor del viento en el instante 0.\n",
    "    camino_viento[0] = datos['regional wind'].iloc[0]\n",
    "\n",
    "    # Luego simularemos al viento desde el instante 1 (segundo valor) hasta T (medida temporal que se quiera calcular)\n",
    "    for i in range(1, T):\n",
    "        Z = np.random.normal(0, 1)\n",
    "        # Calcula el siguiente valor del camino del viento\n",
    "        # Usamos la fórmula Mean Reverting Process. El viento tiende a regresar a un valor promedio (representado por theta).\n",
    "        camino_viento[i] = camino_viento[i-1] + kappa * (theta_function(i) - camino_viento[i-1]) * 1/T + sigma * np.sqrt(1/T) * Z\n",
    "\n",
    "    return camino_viento\n",
    "\n",
    "def generar_gap_norte_sur(beta, gamma, T):\n",
    "    camino_gap = np.zeros(T)\n",
    "    # Tomamos el primer valor de los datos históricos para utilizarlo como primer valor de la diferencia entre el viento norte y sur en el instante 0.\n",
    "    camino_gap[0] = datos['wind gap norte sur'].iloc[0]\n",
    "\n",
    "    for i in range(1, T):\n",
    "        W = np.random.normal(0, 1)\n",
    "        camino_gap[i] = camino_gap[i-1] + beta * 1/T * camino_gap[i-1] + gamma * np.sqrt(1/T) * W\n",
    "\n",
    "    return camino_gap\n",
    "\n",
    "# Recibe una cantidad N y un período T, y devuelve \n",
    "def generar_simulaciones(N,T):\n",
    "    n_caminos = []\n",
    "\n",
    "    for i in range(N):\n",
    "        simular_viento = generar_viento_regional(kappa_estimado, sigma_estimado, T)\n",
    "        simular_gap = generar_gap_norte_sur(beta_estimado, gamma_estimado, T)\n",
    "\n",
    "        camino_norte = simular_viento - simular_gap / 2\n",
    "        camino_sur = simular_viento + simular_gap / 2\n",
    "\n",
    "        n_caminos.append((camino_norte,camino_sur))\n",
    "\n",
    "    print(\"Simulaciones generadas exitosamente\")\n",
    "        \n",
    "    return n_caminos"
   ]
  },
  {
   "cell_type": "code",
   "execution_count": null,
   "metadata": {},
   "outputs": [],
   "source": [
    "N_simulaciones = generar_simulaciones(N,T)\n",
    "\n",
    "simulacion_regional = generar_simulaciones(1,T)\n",
    "\n",
    "simulacion_norte = simulacion_regional[0][0]\n",
    "\n",
    "simulacion_sur = simulacion_regional[0][1]"
   ]
  },
  {
   "cell_type": "markdown",
   "metadata": {},
   "source": [
    "$$\n",
    "\\text{Simulación Norte} = S_i + \\frac{D_i}{2}\n",
    "$$\n",
    "\n",
    "$$\n",
    "\\text{Simulación Sur} = S_i - \\frac{D_i}{2}\n",
    "$$\n",
    "\n",
    "Luego, si tomamos el promedio:\n",
    "\n",
    "$$\n",
    "\\frac{\\left(S_i + \\frac{D_i}{2}\\right) + \\left(S_i - \\frac{D_i}{2}\\right)}{2} = S_i\n",
    "$$\n",
    "\n",
    "Simplificando:\n",
    "\n",
    "$$\n",
    "\\frac{S_i + \\frac{D_i}{2} + S_i - \\frac{D_i}{2}}{2} = \\frac{2S_i}{2} = S_i\n",
    "$$"
   ]
  },
  {
   "cell_type": "markdown",
   "metadata": {},
   "source": [
    "### Grafico comparativo del viento regional real vs el simulado"
   ]
  },
  {
   "cell_type": "code",
   "execution_count": null,
   "metadata": {},
   "outputs": [],
   "source": [
    "import matplotlib.pyplot as plt\n",
    "\n",
    "simular_viento = (simulacion_norte + simulacion_sur) / 2\n",
    "\n",
    "# Graficar la velocidad del viento\n",
    "plt.figure(figsize=(10, 6))\n",
    "plt.plot(datos['regional wind'][:T], color='lightgreen', label='Velocidad real del viento')\n",
    "plt.plot(simular_viento, color='orange', label='Velocidad simulada del viento')\n",
    "\n",
    "# Añadir etiquetas y título\n",
    "plt.xlabel('Dias')\n",
    "plt.ylabel('Velocidad del viento')\n",
    "plt.title('Velocidad del viento real vs simulada durante 365 días')\n",
    "\n",
    "# Añadir leyenda\n",
    "plt.legend()\n",
    "\n",
    "# Mostrar el gráfico\n",
    "plt.show()"
   ]
  },
  {
   "cell_type": "markdown",
   "metadata": {},
   "source": [
    "Vemos que en el largo plazo, hay una correlacion positiva entre ambos, por lo que resulta razonable pensar que el camino simulado se parece al camino real"
   ]
  },
  {
   "cell_type": "markdown",
   "metadata": {},
   "source": [
    "### Grafico comparativo de la diferencia de velocidad del viento entre el norte y el sur real vs la simulada"
   ]
  },
  {
   "cell_type": "code",
   "execution_count": null,
   "metadata": {},
   "outputs": [],
   "source": [
    "simular_gap = simulacion_norte - simulacion_sur\n",
    "\n",
    "# Graficar las simulaciones\n",
    "plt.figure(figsize=(12, 6))\n",
    "plt.plot(simular_gap, color='blue', label='Wind gap simulada')\n",
    "plt.plot(datos[\"wind gap norte sur\"][:T], color='red', label='Wind gap real')\n",
    "\n",
    "plt.xlabel('Día')\n",
    "plt.ylabel('Wind gap')\n",
    "plt.title('Wind gap real vs simulada durante 365 días')\n",
    "plt.legend()\n",
    "plt.show()\n"
   ]
  },
  {
   "cell_type": "markdown",
   "metadata": {},
   "source": [
    "### Gráfico comparativo de la velocidad simulada del viento para los molinos norte y sur"
   ]
  },
  {
   "cell_type": "code",
   "execution_count": null,
   "metadata": {},
   "outputs": [],
   "source": [
    "plt.figure(figsize=(12, 6))\n",
    "plt.plot(simulacion_norte, color='red', label='Velocidad simulada del viento en el molino norte')\n",
    "plt.plot(simulacion_sur, color='blue', label='Velocidad simulada del viento en el molino sur')\n",
    "\n",
    "plt.xlabel('Día')\n",
    "plt.ylabel('Velocidad del viento')\n",
    "plt.title('Molino norte vs sur durante 365 días')\n",
    "plt.legend()\n",
    "plt.show()"
   ]
  },
  {
   "cell_type": "markdown",
   "metadata": {},
   "source": [
    "Si bien hay periodos dentro del corto plazo donde la correlacion no es positiva, en el largo plazo ambos caminos se expanden de la misma manera, con correlación positiva"
   ]
  },
  {
   "cell_type": "markdown",
   "metadata": {},
   "source": [
    "# Ejercicio 3"
   ]
  },
  {
   "cell_type": "code",
   "execution_count": null,
   "metadata": {},
   "outputs": [],
   "source": [
    "def simular_rotura(p):\n",
    "    # Devuelve 1 si el número aleatorio entre 0 y 1 es menor a la probabilidad de que el molino se rompa. \n",
    "    return 1 if random.uniform(0,1) < p else 0\n",
    "\n",
    "def calcular_VAN(T, viento, k, costo_arreglo):\n",
    "    delta = 1/T\n",
    "    S = viento\n",
    "    activo = False\n",
    "    VAN = 0\n",
    "    VAN_diario = []\n",
    "\n",
    "    estado_molino = []\n",
    "    rotura = []\n",
    "    \n",
    "    # Para cada día en la velocidad del viento:\n",
    "    for i in range(0, T):\n",
    "\n",
    "        cashflow = 0\n",
    "\n",
    "        tasa_descuento = math.e**-((0.05 * i)/365)\n",
    "\n",
    "        probabilidad_rotura = 0.25*(S[i]**2)*delta\n",
    "        \n",
    "        # Si el molino está prendido: \n",
    "        if(activo):\n",
    "            # Calculamos si el molino en el día i supera la probabilidad provista\n",
    "\n",
    "            if(S[i] >= k):\n",
    "                    activo = False\n",
    "                    cashflow = -1000\n",
    "                    rotura.append(0)\n",
    "            else:\n",
    "                esta_roto = simular_rotura(probabilidad_rotura)\n",
    "                \n",
    "                if(esta_roto):\n",
    "                    cashflow = -costo_arreglo\n",
    "                    activo = False\n",
    "                    rotura.append(1)\n",
    "\n",
    "                else:\n",
    "                    cashflow = 1000 * S[i]\n",
    "                    rotura.append(0)\n",
    "            \n",
    "        else:\n",
    "            # Si el viento volvió a estar por debajo del nivel del umbral, lo puedo volver a prender. \n",
    "            # Mi negocio vuelve a funcionar, tengo rendimientos positivos. \n",
    "\n",
    "            if(S[i] < k):\n",
    "                activo = True\n",
    "                cashflow = 1000 * S[i]\n",
    "        \n",
    "            rotura.append(0)\n",
    "\n",
    "        cashflow = cashflow * tasa_descuento\n",
    "\n",
    "        VAN = VAN + cashflow\n",
    "\n",
    "        VAN_diario.append(VAN)\n",
    "        \n",
    "        estado_molino.append(activo)\n",
    "    \n",
    "    return VAN_diario, estado_molino, rotura\n",
    "\n",
    "def simular_ambos_molinos(sim_norte, sim_sur, T, k) -> List:\n",
    "\n",
    "    VAN_molino_norte,estados_molino_norte,roturas_molino_norte = calcular_VAN(T,sim_norte,k,C)\n",
    "\n",
    "    info_molino_norte = (VAN_molino_norte,estados_molino_norte,roturas_molino_norte)\n",
    "\n",
    "    VAN_molino_sur,estados_molino_sur,roturas_molino_sur = calcular_VAN(T, sim_sur,k,C)\n",
    "\n",
    "    info_molino_sur = (VAN_molino_sur,estados_molino_sur,roturas_molino_sur)\n",
    "\n",
    "    return [info_molino_norte, info_molino_sur]"
   ]
  },
  {
   "cell_type": "code",
   "execution_count": null,
   "metadata": {},
   "outputs": [],
   "source": [
    "simulacion_ambos_molinos = simular_ambos_molinos(simulacion_norte,simulacion_sur, T, k_inicial)\n",
    "\n",
    "simular_VAN_molino_norte = simulacion_ambos_molinos[0][0]\n",
    "\n",
    "simular_VAN_molino_sur = simulacion_ambos_molinos[1][0]\n",
    "\n",
    "# Graficar las simulaciones\n",
    "plt.figure(figsize=(12, 6))\n",
    "plt.plot(simular_VAN_molino_norte, color='gold', label='VAN molino norte')\n",
    "plt.plot(simular_VAN_molino_sur, color='brown', label='VAN molino sur')\n",
    "\n",
    "plt.xlabel('Día')\n",
    "plt.ylabel('VAN acumulado')\n",
    "plt.title('Simulaciones de los VAN')\n",
    "plt.legend()\n",
    "plt.show()"
   ]
  },
  {
   "cell_type": "markdown",
   "metadata": {},
   "source": [
    "Las fluctuaciones en ambas líneas del gráfico indican los días en que los molinos generan ganancias o pérdidas. Las ganancias se producen cuando los molinos están operativos y el viento está por debajo del umbral crítico, permitiendo así un funcionamiento eficiente y obtener una ganancia. Por otro lado, las caídas observadas en el VAN acumulado se deben a dos factores principales: roturas del molino o apagados preventivos."
   ]
  },
  {
   "cell_type": "markdown",
   "metadata": {},
   "source": [
    "# Ejercicio 4"
   ]
  },
  {
   "cell_type": "markdown",
   "metadata": {},
   "source": [
    "Grafico de la evolución contemporánea del estado de cada molino"
   ]
  },
  {
   "cell_type": "code",
   "execution_count": null,
   "metadata": {},
   "outputs": [],
   "source": [
    "def graficar_estado_molino(sim,roturas,encendido,region,k):\n",
    "    # Datos ya calculados: simulacion_norte (velocidad del viento), simular_encendido_norte (estado de encendido) y simular_rotura_norte (roturas)\n",
    "    dias = np.arange(len(sim))\n",
    "\n",
    "    # Graficar la velocidad del viento\n",
    "    plt.figure(figsize=(10, 6))\n",
    "    plt.plot(dias, sim, color='orange', label='Velocidad simulada del viento', linewidth=0.85)\n",
    "\n",
    "    # Graficar línea verde o roja según el valor de simular_encendido_norte\n",
    "    for i in range(len(sim) - 1):\n",
    "        if encendido[i] == 1:  # Encendido (True)\n",
    "            plt.plot([dias[i], dias[i+1]], [sim[i], sim[i+1]], color='green', linewidth=2)\n",
    "        else:  # Apagado (False)\n",
    "            plt.plot([dias[i], dias[i+1]], [sim[i], sim[i+1]], color='red', linewidth=2)\n",
    "\n",
    "    # Graficar roturas con puntos en la posición donde ocurre una rotura (simular_rotura_norte == 1)\n",
    "    rotura_indices = np.where(np.array(roturas) == 1)[0]\n",
    "    plt.scatter(rotura_indices, np.array(sim)[rotura_indices], color='blue', label=f'Rotura molino {region}', zorder=5)\n",
    "\n",
    "    # Graficar línea horizontal en y = 9\n",
    "    plt.axhline(y=k, color='black', linestyle='--', label='Umbral de apagado')\n",
    "\n",
    "    # Añadir etiquetas y título\n",
    "    plt.xlabel('Días')\n",
    "    plt.ylabel('Velocidad del viento')\n",
    "    plt.title('Velocidad del viento real vs simulada con estado de encendido y roturas')\n",
    "\n",
    "    # Añadir leyenda con colores personalizados\n",
    "    legend_labels = ['Encendido (verde)', 'Apagado (rojo)', f'Rotura molino {region}', 'Umbral de apagado']\n",
    "    legend_colors = ['green', 'red', 'blue', 'black']\n",
    "    handles = [plt.Line2D([0], [0], color=color, lw=2) for color in legend_colors]\n",
    "    plt.legend(handles, legend_labels)\n",
    "\n",
    "    # Mostrar el gráfico\n",
    "    plt.tight_layout()\n",
    "    plt.show()"
   ]
  },
  {
   "cell_type": "code",
   "execution_count": null,
   "metadata": {},
   "outputs": [],
   "source": [
    "simular_encendido_norte = simulacion_ambos_molinos[0][1]\n",
    "\n",
    "simular_rotura_norte = simulacion_ambos_molinos[0][2]\n",
    "\n",
    "simular_norte = simulacion_ambos_molinos[0][0]\n",
    "\n",
    "simular_encendido_sur = simulacion_ambos_molinos[1][1]\n",
    "\n",
    "simular_rotura_sur = simulacion_ambos_molinos[1][2]\n",
    "\n",
    "simular_sur = simulacion_ambos_molinos[1][0]\n",
    "\n",
    "graficar_estado_molino(simulacion_norte,simular_rotura_norte,simular_encendido_norte,\"norte\", k_inicial)\n",
    "\n",
    "graficar_estado_molino(simulacion_sur,simular_rotura_sur,simular_encendido_sur,\"sur\", k_inicial)\n"
   ]
  },
  {
   "cell_type": "markdown",
   "metadata": {},
   "source": [
    "En el gráfico podemos observar como las 3 simulaciones se expanden de manera simetrica a traves del tiempo, esto nos lleva a pensar que los modelos implementados anteriormente son fieles a los datos proporcionados, mostrando una correlacion de largo plazo positiva."
   ]
  },
  {
   "cell_type": "markdown",
   "metadata": {},
   "source": [
    "# Ejercicio 5"
   ]
  },
  {
   "cell_type": "markdown",
   "metadata": {},
   "source": [
    "El VAN esperado se calcula como el promedio de los VANs simulados:\n",
    "$$\n",
    "\\text{VAN esperado} = \\frac{1}{N} \\sum_{j=1}^N \\text{VAN}_j\n",
    "$$\n",
    "\n",
    "donde:\n",
    "- N es el número total de simulaciones.\n",
    "- $\\text{VAN}_j$ es el VAN del j-ésimo camino simulado.\n"
   ]
  },
  {
   "cell_type": "code",
   "execution_count": null,
   "metadata": {},
   "outputs": [],
   "source": [
    "def VAN_esperado(k, N, T, simulaciones):\n",
    "\n",
    "    simulaciones_regionales = []\n",
    "\n",
    "    for i in range(N):\n",
    "\n",
    "        VAN_norte = calcular_VAN(T, simulaciones[i][0], k, C)\n",
    "        VAN_sur = calcular_VAN(T, simulaciones[i][1], k, C)\n",
    "\n",
    "        VAN_total = VAN_norte + VAN_sur\n",
    "\n",
    "        simulaciones_regionales.append(VAN_total)\n",
    "\n",
    "    VAN_esperado = np.mean(simulaciones_regionales)\n",
    "\n",
    "    return(VAN_esperado)"
   ]
  },
  {
   "cell_type": "code",
   "execution_count": null,
   "metadata": {},
   "outputs": [],
   "source": [
    "def estimar_error_muestral(datos):\n",
    "\n",
    "    # Calcular la desviación estándar de los datos\n",
    "    desviacion_estandar = np.std(datos, ddof=1)  # ddof=1 para obtener la desviación estándar muestral\n",
    "\n",
    "    # Calcular el error estándar\n",
    "    error_estandar = 1.96 * desviacion_estandar / np.sqrt(len(datos))\n",
    "\n",
    "    return error_estandar"
   ]
  },
  {
   "cell_type": "markdown",
   "metadata": {},
   "source": [
    "Decidimos implementar la funcion de estimar error para un conjunto de datos generico y no para el VAN esperado unicamente ya que luego la vamos a querer utilizar para estimar otros errores muestrales usando la misma formula"
   ]
  },
  {
   "cell_type": "markdown",
   "metadata": {},
   "source": [
    "# Ejercicio 6"
   ]
  },
  {
   "cell_type": "markdown",
   "metadata": {},
   "source": [
    "### Optimización del Umbral de Viento k para Maximizar el VAN\n",
    "\n",
    "Queremos encontrar el valor del umbral de viento k que maximiza el Valor Actual Neto (VAN) generado por los molinos de viento en un año. Para ello, vamos utilizar simulaciones de Monte Carlo siguiendo estos pasos:\n",
    "\n",
    "1. Definir un rango de valores de k\n",
    "2. Implementar la simulación para calcular el VAN esperado para cada valor de k para N simulaciones.\n",
    "3. Comparar los VANs obtenidos y seleccionar el k óptimo que maximice el VAN esperado.\n"
   ]
  },
  {
   "cell_type": "code",
   "execution_count": null,
   "metadata": {},
   "outputs": [],
   "source": [
    "umbrales = np.arange(6, 10, 0.1)\n",
    "lista_VANs_total = []\n",
    "\n",
    "for k in umbrales:\n",
    "\n",
    "    VAN_esperado_dado_k = VAN_esperado(k, N, T, N_simulaciones)\n",
    "    lista_VANs_total.append((VAN_esperado_dado_k, k))\n",
    "\n",
    "k_optimo = max(lista_VANs_total, key=lambda x: (x[0], x[1]))[1]  # Max en función de [VAN, k], solo devuelve k\n",
    "\n",
    "print(f\"El valor óptimo de k es: {k_optimo}\")"
   ]
  },
  {
   "cell_type": "markdown",
   "metadata": {},
   "source": [
    "# Ejercicio 7"
   ]
  },
  {
   "cell_type": "markdown",
   "metadata": {},
   "source": [
    "Calculamos el VAN esperado para 10000 simulaciones (Monte Carlo) para ver a donde converge en cada tipo de operacion:\n",
    "\n",
    "- Operacion optima: utilizando k = 7.5\n",
    "- Operacion ingenua: utilizando k >> 7.5 (nunca se apaga el molino)\n",
    "\n",
    "(Nota: Como puede variar el resultado del ejercicio anterior, seteamos el umbral a un valor fijo)\n",
    "\n",
    "Luego comparamos los resultados"
   ]
  },
  {
   "cell_type": "code",
   "execution_count": null,
   "metadata": {},
   "outputs": [],
   "source": [
    "k_ingenuo = 1000\n",
    "k_optimo = 7.5\n",
    "\n",
    "VAN_esperado_ingenuo = VAN_esperado(k_ingenuo, N, T, N_simulaciones)\n",
    "VAN_esperado_optimo = VAN_esperado(k_optimo, N, T, N_simulaciones)\n",
    "\n",
    "print(f\"VAN esperado con K-ingenuo: {VAN_esperado_ingenuo}\")\n",
    "print(f\"VAN esperado con K-optimo: {VAN_esperado_optimo}\")"
   ]
  },
  {
   "cell_type": "code",
   "execution_count": null,
   "metadata": {},
   "outputs": [],
   "source": [
    "import matplotlib.pyplot as plt\n",
    "\n",
    "# Nombres de las categorías\n",
    "categorias = ['VAN Ingenuo', 'VAN Óptimo']\n",
    "\n",
    "# Colores correspondientes a cada barra\n",
    "colores = ['orange', 'lightblue']\n",
    "\n",
    "# Crear gráfico de barras horizontal\n",
    "plt.barh(categorias, [VAN_esperado_ingenuo, VAN_esperado_optimo], color=colores)\n",
    "\n",
    "# Añadir etiquetas\n",
    "plt.xlabel('VAN Esperado (USD)')\n",
    "plt.title('Comparación de VAN Esperado: Ingenuo vs. Óptimo')\n",
    "\n",
    "# Mostrar gráfico\n",
    "plt.show()"
   ]
  },
  {
   "cell_type": "markdown",
   "metadata": {},
   "source": [
    "# Ejercicio 8"
   ]
  },
  {
   "cell_type": "markdown",
   "metadata": {},
   "source": [
    "Al ingreso del mes de Agosto lo podemos medir como el ingreso entre los días 213 (1 de Agosto) y 243 (31 de Agosto) de nuestro modelo."
   ]
  },
  {
   "cell_type": "markdown",
   "metadata": {},
   "source": [
    "Primero, implementamos una funcion para calcular el VAN sin comtemplar la tasa de descuento diaria:"
   ]
  },
  {
   "cell_type": "code",
   "execution_count": null,
   "metadata": {},
   "outputs": [],
   "source": [
    "def calcular_VAN_sin_descuento(T, viento, k):\n",
    "\n",
    "    delta = 1/T\n",
    "    S = viento\n",
    "    activo = False\n",
    "    VAN = 0\n",
    "    VAN_diario = []\n",
    "    estado_molino = []\n",
    "\n",
    "    for i in range(0, T):\n",
    "\n",
    "        probabilidad_rotura = 0.25*(S[i]**2)*delta\n",
    "\n",
    "        if(activo):\n",
    "            esta_roto = simular_rotura(probabilidad_rotura)\n",
    "            \n",
    "            if(S[i] >= k):\n",
    "                    activo = False\n",
    "\n",
    "            else:  \n",
    "                if(esta_roto):\n",
    "                    activo = False\n",
    "                \n",
    "                else:\n",
    "                    VAN += 1000 * S[i]\n",
    "        \n",
    "        else:\n",
    "\n",
    "            if(S[i] < k):\n",
    "                activo = True\n",
    "                VAN += 1000 * S[i]\n",
    "        \n",
    "        estado_molino.append(activo)\n",
    "\n",
    "        VAN_diario.append(VAN)\n",
    "    \n",
    "    return VAN_diario, estado_molino"
   ]
  },
  {
   "cell_type": "markdown",
   "metadata": {},
   "source": [
    "A traves de Monte Carlo, calculamos los ingresos de agosto para 10000 simulaciones distintas para despues poder graficar la distribucion del mismo"
   ]
  },
  {
   "cell_type": "code",
   "execution_count": null,
   "metadata": {},
   "outputs": [],
   "source": [
    "ingresos_agosto = []\n",
    "\n",
    "for i in range(N):\n",
    "\n",
    "    viento_norte_agosto = N_simulaciones[i][0]\n",
    "    viento_sur_agosto = N_simulaciones[i][1]\n",
    "\n",
    "    ingreso_norte_agosto = calcular_VAN_sin_descuento(len(viento_norte_agosto),viento_norte_agosto,k_optimo)[0][-1]\n",
    "    ingreso_sur_agosto = calcular_VAN_sin_descuento(len(viento_sur_agosto),viento_sur_agosto,k_optimo)[0][-1]\n",
    "\n",
    "    ingresos_agosto.append(ingreso_norte_agosto + ingreso_sur_agosto)\n",
    "\n",
    "print(f\"Estimación de error muestral: {estimar_error_muestral(ingresos_agosto)}\")\n",
    "\n",
    "print(f\"Media de ingresos en Agosto sin descuento: {np.mean(ingresos_agosto)}\")"
   ]
  },
  {
   "cell_type": "markdown",
   "metadata": {},
   "source": [
    "Graficamos la distribucion de los ingresos de agosto a traves de un histograma de frecuencia"
   ]
  },
  {
   "cell_type": "code",
   "execution_count": null,
   "metadata": {},
   "outputs": [],
   "source": [
    "plt.hist(ingresos_agosto, bins = 1000)\n",
    "plt.xlabel('Ingresos de Agosto')\n",
    "plt.ylabel('Frecuencia')\n",
    "plt.title('Distribución de los Ingresos Simulados para Agosto')\n",
    "plt.show()"
   ]
  },
  {
   "cell_type": "markdown",
   "metadata": {},
   "source": [
    "Podemos observar que la distribucion del ingreso de agosto tiene forma de campana, lo cual es un primer indicio de que la variable es normal"
   ]
  },
  {
   "cell_type": "markdown",
   "metadata": {},
   "source": [
    "# Ejercicio 9"
   ]
  },
  {
   "cell_type": "code",
   "execution_count": null,
   "metadata": {},
   "outputs": [],
   "source": [
    "roturas_agosto_k_optimo = []\n",
    "\n",
    "roturas_agosto_k_ingenuo = []\n",
    "\n",
    "for i in range(N):\n",
    "    \n",
    "    s_norte = N_simulaciones[i][0]\n",
    "\n",
    "    s_sur = N_simulaciones[i][1]\n",
    "\n",
    "    info_k_optimo = simular_ambos_molinos(s_norte, s_sur, T, k_optimo)\n",
    "\n",
    "    info_k_ingenuo = simular_ambos_molinos(s_norte, s_sur, T, N)\n",
    "\n",
    "    rotura_k_optimo = sum(info_k_optimo[0][2]) + sum(info_k_optimo[1][2])\n",
    "\n",
    "    rotura_k_ingenuo = sum(info_k_ingenuo[0][2]) + sum(info_k_ingenuo[1][2])\n",
    "\n",
    "    roturas_agosto_k_optimo.append(rotura_k_optimo)\n",
    "    roturas_agosto_k_ingenuo.append(rotura_k_ingenuo)\n",
    "\n",
    "print(f\"Roturas promedio del molino con k-óptimo: {np.mean(roturas_agosto_k_optimo)/2}\")\n",
    "\n",
    "print(f\"Roturas promedio del molino con k-ingenuo: {np.mean(roturas_agosto_k_ingenuo)/2}\")"
   ]
  },
  {
   "cell_type": "markdown",
   "metadata": {},
   "source": [
    "# Ejercicio 10"
   ]
  },
  {
   "cell_type": "code",
   "execution_count": null,
   "metadata": {},
   "outputs": [],
   "source": [
    "actividad_norte = []\n",
    "\n",
    "actividad_sur = []\n",
    "\n",
    "for i in range(N):\n",
    "\n",
    "    s_norte = N_simulaciones[i][0]\n",
    "\n",
    "    s_sur = N_simulaciones[i][1]\n",
    "\n",
    "    info_ambos_molinos = simular_ambos_molinos(s_norte, s_sur, T, k_optimo)\n",
    "\n",
    "    estado_norte = sum(info_ambos_molinos[0][1])\n",
    "\n",
    "    estado_sur = sum(info_ambos_molinos[1][1])\n",
    "\n",
    "    actividad_norte.append(estado_norte)\n",
    "    actividad_sur.append(estado_sur)\n",
    "\n",
    "print(f\"Cantidad promedio de días que el molino norte está inactivo: {365 - np.mean(actividad_norte)}\")\n",
    "print(f\"Cantidad promedio de días que el molino sur está inactivo: {365 - np.mean(actividad_sur)}\")"
   ]
  },
  {
   "cell_type": "markdown",
   "metadata": {},
   "source": [
    "Vemos que, en promedio, ambos molinos estan encendidos durante 275 dias del año, lo que equivale a decir que ambos suelen estar apagados aproximadamente 90 días del año. Esto quiere decir que alrededor de un tercio del año los molinos no generan ganancias"
   ]
  },
  {
   "cell_type": "code",
   "execution_count": null,
   "metadata": {},
   "outputs": [],
   "source": [
    "error_estimacion_norte = estimar_error_muestral(actividad_norte)\n",
    "error_estimacion_sur = estimar_error_muestral(actividad_sur)\n",
    "\n",
    "print(f\"Error de estimación de la actividad del molino norte: {error_estimacion_norte}\")\n",
    "print(f\"Error de estimación de la actividad del molino norte: {error_estimacion_sur}\")"
   ]
  },
  {
   "cell_type": "code",
   "execution_count": null,
   "metadata": {},
   "outputs": [],
   "source": [
    "def estimar_error_proporcion(p):\n",
    "    \n",
    "    res = np.sqrt(p - p**2)\n",
    "\n",
    "    return res"
   ]
  },
  {
   "cell_type": "markdown",
   "metadata": {},
   "source": [
    "# Ejercicio 11\n",
    "\n",
    "Dado que las roturas de cada molino son eventos independientes, podemos estimar la probabilidad de que ambos estén inactivos como:\n",
    "\n",
    "$$\n",
    "P(\\text{inactividad el 9 de julio}) = P(N_{189} = 0) \\times P(S_{189} = 0)\n",
    "$$\n",
    "\n",
    "Donde:\n",
    "\n",
    "- $N_{189}$ es el estado del molino norte en el día 189 del año (9 de julio)\n",
    "- $S_{189}$ es el estado del molino sur en el día 189 del año (9 de julio)\n",
    "\n",
    "\n",
    "Por otro lado, el error de estimación de $\\hat{p}$ se puede calcular como:\n",
    "\n",
    "$$\n",
    "SE = \\sqrt{\\frac{\\hat{p} \\cdot (1 - \\hat{p})}{N}}\n",
    "$$\n",
    "\n",
    "donde:\n",
    "\n",
    "- $\\hat{p}$ es la estimación de la proporcion deseada\n",
    "- $N$ es el número de simulaciones"
   ]
  },
  {
   "cell_type": "code",
   "execution_count": null,
   "metadata": {},
   "outputs": [],
   "source": [
    "coincidencias_9_julio = 0\n",
    "\n",
    "for i in range(N):\n",
    "\n",
    "    s_norte = N_simulaciones[i][0]\n",
    "\n",
    "    s_sur = N_simulaciones[i][1]\n",
    "\n",
    "    simulacion_regional = simular_ambos_molinos(s_norte, s_sur, T, k_optimo)\n",
    "\n",
    "    estado_norte = simulacion_regional[0][1]\n",
    "\n",
    "    estado_sur = simulacion_regional[1][1]\n",
    "\n",
    "    if(estado_norte[189] == 0 and estado_sur[189] == 0):\n",
    "            coincidencias_9_julio += 1\n",
    "\n",
    "coincidencias_9_julio = coincidencias_9_julio/10000\n",
    "\n",
    "probabilidad_inactividad_9_julio = 1/T * coincidencias_9_julio\n",
    "\n",
    "print(f'Probabilidad de que ambos molinos estén inactivos el 9 de julio: {probabilidad_inactividad_9_julio:.10f}')\n",
    "\n",
    "SE_9_julio = estimar_error_proporcion(probabilidad_inactividad_9_julio)\n",
    "\n",
    "print(f'Error estándar de la probabilidad: {SE_9_julio:.10f}')"
   ]
  },
  {
   "cell_type": "markdown",
   "metadata": {},
   "source": [
    "Podemos observar que la probabilidad de ambos molinos esten inactivos el 9 de julio es cercana a 0, lo que lo convierte en un evento bastante improbable"
   ]
  },
  {
   "cell_type": "markdown",
   "metadata": {},
   "source": [
    "Para estimar la probabilidad de que ambos molinos estén inactivos en algún día del año, podemos usar Monte Carlo:\n",
    "\n",
    "$$\n",
    "P(\\text{inactividad en algún día del año}) = \\frac{1}{365} \\sum_{i=1}^{365} \\mathbb{I}(N_{i} = 0 \\cap S_{i} = 0)\n",
    "$$\n",
    "\n",
    "Donde:\n",
    "\n",
    "- $\\mathbb{I}$ es la función indicadora que toma el valor 1 si ambos molinos están inactivos en el día $i$ y 0 en caso contrario.\n",
    "- $N_{i}$ es el estado del molino norte en el día $i$.\n",
    "- $S_{i}$ es el estado del molino sur en el día $i$."
   ]
  },
  {
   "cell_type": "code",
   "execution_count": null,
   "metadata": {},
   "outputs": [],
   "source": [
    "cantidad_coincidencias = 0\n",
    "\n",
    "for i in range(N):\n",
    "\n",
    "    s_norte = N_simulaciones[i][0]\n",
    "\n",
    "    s_sur = N_simulaciones[i][1]\n",
    "\n",
    "    simulacion_regional = simular_ambos_molinos(s_norte, s_sur, T, k_optimo)\n",
    "\n",
    "    estado_norte = simulacion_regional[0][1]\n",
    "\n",
    "    estado_sur = simulacion_regional[1][1]\n",
    "\n",
    "    for j in range(T):\n",
    "        if(estado_norte[j] == 0 and estado_sur[j] == 0):\n",
    "            cantidad_coincidencias += 1\n",
    "\n",
    "cantidad_coincidencias_promedio = cantidad_coincidencias/N\n",
    "\n",
    "probabilidad_inactividad = 1/T * cantidad_coincidencias_promedio\n",
    "print(f'Probabilidad de que ambos molinos estén inactivos en algun dia del año: {probabilidad_inactividad}')\n",
    "\n",
    "SE = estimar_error_proporcion(probabilidad_inactividad)\n",
    "print(f'Error estándar de la probabilidad: {SE}')"
   ]
  },
  {
   "cell_type": "markdown",
   "metadata": {},
   "source": [
    "# Ejercicio 12"
   ]
  },
  {
   "cell_type": "code",
   "execution_count": null,
   "metadata": {},
   "outputs": [],
   "source": [
    "def calcular_correlacion(X, Y):\n",
    "    # Calcular las medias\n",
    "    media_X = np.mean(X)\n",
    "    media_Y = np.mean(Y)\n",
    "    \n",
    "    # Calcular las desviaciones estándar\n",
    "    desvio_X = np.sqrt(np.sum((X - media_X)**2))\n",
    "    desvio_Y = np.sqrt(np.sum((Y - media_Y)**2))\n",
    "    \n",
    "    # Calcular la covarianza\n",
    "    covarianza = np.sum((X - media_X) * (Y - media_Y))\n",
    "    \n",
    "    # Calcular la correlación\n",
    "    correlacion = covarianza / (desvio_X * desvio_Y)\n",
    "    \n",
    "    return correlacion"
   ]
  },
  {
   "cell_type": "code",
   "execution_count": null,
   "metadata": {},
   "outputs": [],
   "source": [
    "ingresos_mayo_norte = []\n",
    "ingresos_mayo_sur = []\n",
    "\n",
    "for i in range(N):\n",
    "    \n",
    "    s_norte = N_simulaciones[i][0]\n",
    "\n",
    "    s_sur = N_simulaciones[i][1]\n",
    "    \n",
    "    # Calcular el VAN diario para mayo (días 121 a 151 del año)\n",
    "    ingreso_norte = calcular_VAN_sin_descuento(T, s_norte, k_optimo)[0]\n",
    "    ingreso_sur = calcular_VAN_sin_descuento(T, s_sur, k_optimo)[0]\n",
    "    \n",
    "    # Sumar los ingresos diarios para mayo (días 121 a 151)\n",
    "    ingreso_mensual_norte = ingreso_norte[151] - ingreso_norte[121]\n",
    "\n",
    "    ingreso_mensual_sur = ingreso_sur[151] - ingreso_sur[121]\n",
    "    \n",
    "    # Guardar los totales en listas\n",
    "    ingresos_mayo_norte.append(ingreso_mensual_norte)\n",
    "    ingresos_mayo_sur.append(ingreso_mensual_sur)\n",
    "\n",
    "correlacion = calcular_correlacion(ingresos_mayo_norte, ingresos_mayo_sur)\n",
    "\n",
    "print(f'Correlación del ingreso mensual de mayo entre los dos molinos: {correlacion}')"
   ]
  },
  {
   "cell_type": "markdown",
   "metadata": {},
   "source": [
    "# Ejercicio 13"
   ]
  },
  {
   "cell_type": "markdown",
   "metadata": {},
   "source": [
    "La sensibilidad se puede calcular utilizando diferencias finitas de la siguiente manera:\n",
    "\n",
    "$$\n",
    "\\frac{\\partial E[f(\\alpha, S_T)]}{\\partial \\alpha} \\approx \\frac{E[f(\\alpha + \\epsilon, S_T)] - E[f(\\alpha - \\epsilon, S_T)]}{2\\epsilon}\n",
    "$$\n",
    "\n",
    "Donde:\n",
    "- $\\alpha$ es el parámetro de interés.\n",
    "- $\\epsilon$ es un pequeño incremento.\n",
    "- $E[f(\\alpha, S_T)]$ es el valor esperado de la función \\( f \\) con el parámetro $\\alpha$ y el proceso estocástico \\( S_T \\).\n",
    "\n",
    "Para calcular esta sensibilidad, se realizan simulaciones para $\\alpha$ + $\\epsilon$ y $\\alpha$ - $\\epsilon$, y se utiliza la fórmula de diferencias finitas para estimar la derivada."
   ]
  },
  {
   "cell_type": "code",
   "execution_count": null,
   "metadata": {},
   "outputs": [],
   "source": [
    "def VAN_esperado_modificado(k, N, T, costo_arreglo,sims):\n",
    "    simulaciones = sims\n",
    "\n",
    "    simulaciones_regionales = []\n",
    "\n",
    "    for i in range(N):\n",
    "        \n",
    "        camino_norte = simulaciones[i][0]\n",
    "        camino_sur = simulaciones[i][1]\n",
    "\n",
    "        VAN_norte, _, _ = calcular_VAN(T, camino_norte, k, costo_arreglo)\n",
    "        VAN_sur, _, _ = calcular_VAN(T, camino_sur, k, costo_arreglo)\n",
    "\n",
    "        simulaciones_regionales.append(VAN_norte[-1] + VAN_sur[-1])\n",
    "\n",
    "    VAN_esperado = np.mean(simulaciones_regionales)\n",
    "    return VAN_esperado\n",
    "\n",
    "def calcular_sensibilidad(costo_arreglo_actual, costo_arreglo_nuevo, N, T, k, simulaciones):\n",
    "\n",
    "    # Calcular VAN esperado para el costo de arreglo actual\n",
    "    VAN_esperado_actual = VAN_esperado_modificado(k, N, T, costo_arreglo_actual,simulaciones)\n",
    "    \n",
    "    # Calcular VAN esperado para el nuevo costo de arreglo\n",
    "    VAN_esperado_nuevo = VAN_esperado_modificado(k, N, T, costo_arreglo_nuevo,simulaciones)\n",
    "    \n",
    "    # Calcular la sensibilidad utilizando la fórmula de diferencias finitas\n",
    "    sensibilidad = (VAN_esperado_nuevo - VAN_esperado_actual) / (costo_arreglo_nuevo - costo_arreglo_actual)\n",
    "    \n",
    "    return sensibilidad"
   ]
  },
  {
   "cell_type": "code",
   "execution_count": null,
   "metadata": {},
   "outputs": [],
   "source": [
    "costo_arreglo_actual = 200000  # Costo viejo\n",
    "costo_arreglo_nuevo = 250000   # Nuevo costo\n",
    "\n",
    "sensibilidad = calcular_sensibilidad(costo_arreglo_actual, costo_arreglo_nuevo, N, T, k_optimo, N_simulaciones)\n",
    "\n",
    "print(f\"La sensibilidad calculada es: {sensibilidad}\")"
   ]
  },
  {
   "cell_type": "markdown",
   "metadata": {},
   "source": [
    "#### Análisis extra"
   ]
  },
  {
   "cell_type": "code",
   "execution_count": null,
   "metadata": {},
   "outputs": [],
   "source": [
    "umbrales = np.arange(5, 12, 0.1)\n",
    "\n",
    "# Gráfico del cambio del VAN y el umbral óptimo para costos entre 0 y 500 mil dólares\n",
    "costos_arreglo = np.linspace(0, 500000, 19)\n",
    "VANs_esperados = []\n",
    "umbrales_optimos = []\n",
    "\n",
    "for costo in costos_arreglo:\n",
    "\n",
    "    lista_VANs_total = []\n",
    "\n",
    "    VAN_esperado_dado_k = VAN_esperado_modificado(k_optimo, N, T, costo, N_simulaciones)\n",
    "\n",
    "    lista_VANs_total.append((VAN_esperado_dado_k, k_optimo))\n",
    "    \n",
    "    VANs_esperados.append(max(lista_VANs_total)[0])\n"
   ]
  },
  {
   "cell_type": "code",
   "execution_count": null,
   "metadata": {},
   "outputs": [],
   "source": [
    "\n",
    "plt.figure(figsize=(12, 6))\n",
    "\n",
    "plt.subplot(1, 2, 1)\n",
    "plt.plot(costos_arreglo, VANs_esperados)\n",
    "plt.xlabel('Costo del Arreglo')\n",
    "plt.ylabel('VAN Esperado')\n",
    "plt.title('Cambio del VAN Esperado con el Costo del Arreglo')\n",
    "\n",
    "plt.tight_layout()\n",
    "plt.show()"
   ]
  },
  {
   "cell_type": "code",
   "execution_count": null,
   "metadata": {},
   "outputs": [],
   "source": [
    "umbrales = np.arange(6, 12, 0.1)\n",
    "\n",
    "lista_VANs_norte = []\n",
    "lista_VANs_sur = []\n",
    "lista_VANs_total = []\n",
    "\n",
    "# Llenar las listas con las tuplas de [VAN, k]\n",
    "for k in umbrales:\n",
    "\n",
    "    VAN_esperado_dado_k = VAN_esperado_modificado(k,N,T,250000,N_simulaciones)\n",
    "\n",
    "    lista_VANs_total.append((VAN_esperado_dado_k,k))\n",
    "\n",
    "# Encontrar el valor de k más alto considerando VAN y luego k\n",
    "k_optimo_costo_250 = max(lista_VANs_total, key=lambda x: (x[0], x[1]))[1]  # Max en función de [VAN, k]\n",
    "\n",
    "print(f\"El valor óptimo de k es: {k_optimo_costo_250}\")"
   ]
  },
  {
   "cell_type": "markdown",
   "metadata": {},
   "source": [
    "Como se observa en el gráfico, hay una relación negativa entre inversamente proporcional entre el costo de arreglo y el ingreso mensual esperado, a medida que aumenta el costo, disminuye el ingreso esperado. Esto indica que cualquier incremento en los costos de reparación tiene un impacto negativo considerable en la rentabilidad del negocio. "
   ]
  },
  {
   "cell_type": "markdown",
   "metadata": {},
   "source": [
    "Dado que el costo de reparación es ahora más alto, el umbral óptimo para la reparación debería disminuir. Esto significa que deberíamos considerar reparar el molino antes de que se produzcan daños más graves y costosos. Al reducir el umbral, minimizamos el riesgo de enfrentarnos a reparaciones extremadamente costosas."
   ]
  },
  {
   "cell_type": "markdown",
   "metadata": {},
   "source": [
    "# Ejercicio 14"
   ]
  },
  {
   "cell_type": "markdown",
   "metadata": {},
   "source": [
    "Graficamos la media estacional a lo largo del año y el VAN esperado para 10000 simulaciones. Con el fin de mejorar la visualización, dividimos el VAN por un número grande para apreciar de manera mas clara cómo varía en el mismo gráfico que la media estacional."
   ]
  },
  {
   "cell_type": "code",
   "execution_count": null,
   "metadata": {},
   "outputs": [],
   "source": [
    "van_total = [0] * T \n",
    "\n",
    "for i in range(N):\n",
    "\n",
    "    simulacion_norte = N_simulaciones[i][0]\n",
    "    simulacion_sur = N_simulaciones[i][1]\n",
    "    \n",
    "    simulacion_ambos_molinos = simular_ambos_molinos(simulacion_norte,simulacion_sur,T,k_optimo)\n",
    "\n",
    "    simular_VAN_molino_norte = simulacion_ambos_molinos[0][0]\n",
    "\n",
    "    simular_VAN_molino_sur = simulacion_ambos_molinos[1][0]\n",
    "\n",
    "    van_total = [van_total[i] + (simular_VAN_molino_norte[i] + simular_VAN_molino_sur[i])/2 for i in range(T)]  # Suma los VAN diarios\n",
    "\n",
    "# Calcula el promedio dividiendo cada elemento de van_total por el número de simulaciones (x)\n",
    "van_esperado = [total / N for total in van_total]\n",
    "\n",
    "# Re-escalamos que se aprecie en el grafico (por tema escalas)\n",
    "van_esperado = [van / 50000 for van in van_esperado]"
   ]
  },
  {
   "cell_type": "code",
   "execution_count": null,
   "metadata": {},
   "outputs": [],
   "source": [
    "# Graficamos el VAN_esperado junto con la media del viento\n",
    "\n",
    "media_viento = [] #valor de la media en dia i \n",
    "\n",
    "for i in range(T):\n",
    "    media_viento.append(theta_function(i))\n",
    "\n",
    "dias = range(1, T+1)  # Días (eje x)\n",
    "\n",
    "plt.figure(figsize=(10, 6))\n",
    "\n",
    "# Graficar el VAN acumulado\n",
    "plt.plot(dias, van_esperado, label=\"VAN esperado\", color=\"b\")\n",
    "\n",
    "# Graficar la media del viento\n",
    "plt.plot(dias, media_viento, label=\"Media Estacional del Viento\", color=\"g\")\n",
    "\n",
    "# Añadir etiquetas y leyenda\n",
    "plt.xlabel(\"Días\")\n",
    "plt.ylabel(\"Valor\")\n",
    "plt.title(\"VAN Acumulado y Media Estacional del Viento por Día\")\n",
    "plt.legend()\n",
    "\n",
    "# Mostrar el gráfico\n",
    "plt.grid(True)\n",
    "plt.show()"
   ]
  }
 ],
 "metadata": {
  "kernelspec": {
   "display_name": "TD6",
   "language": "python",
   "name": "python3"
  },
  "language_info": {
   "codemirror_mode": {
    "name": "ipython",
    "version": 3
   },
   "file_extension": ".py",
   "mimetype": "text/x-python",
   "name": "python",
   "nbconvert_exporter": "python",
   "pygments_lexer": "ipython3",
   "version": "3.11.9"
  }
 },
 "nbformat": 4,
 "nbformat_minor": 2
}
